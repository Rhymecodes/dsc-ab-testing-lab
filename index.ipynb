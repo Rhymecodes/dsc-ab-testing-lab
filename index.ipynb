{
 "cells": [
  {
   "cell_type": "markdown",
   "metadata": {},
   "source": [
    "# A/B Testing - Lab\n",
    "\n",
    "## Introduction\n",
    "\n",
    "In this lab, you'll go through the process of designing an experiment.\n",
    "\n",
    "## Objectives\n",
    "You will be able to:\n",
    "\n",
    "* Design, structure, and run an A/B test\n",
    "\n",
    "\n",
    "## The Scenario\n",
    "\n",
    "You've been tasked with designing an experiment to test whether a new email template will be more effective for your company's marketing team. The current template has a 5% response rate (with standard deviation .0475), which has outperformed numerous other templates in the past. The company is excited to test the new design that was developed internally but nervous about losing sales if it is not to work out. As a result, they are looking to determine how many individuals they will need to serve the new email template in order to detect a 1% performance increase.\n",
    "\n",
    "\n",
    "## Step 1: State the Null Hypothesis, $H_0$"
   ]
  },
  {
   "cell_type": "markdown",
   "metadata": {},
   "source": [
    "State your null hypothesis here (be sure to make it quantitative as before)"
   ]
  },
  {
   "cell_type": "code",
   "execution_count": null,
   "metadata": {},
   "outputs": [],
   "source": [
    "#There is no difference in the response rates between the Emaila and Emailb templates.ur null hypothesis"
   ]
  },
  {
   "cell_type": "markdown",
   "metadata": {},
   "source": [
    "## Step 2: State the Alternative Hypothesis, $H_1$"
   ]
  },
  {
   "cell_type": "markdown",
   "metadata": {},
   "source": [
    "State your alternative hypothesis here (be sure to make it quantitative as before)"
   ]
  },
  {
   "cell_type": "code",
   "execution_count": null,
   "metadata": {},
   "outputs": [],
   "source": [
    "# H_1 = there is a difference in the response rates between Emaila and Emailb templates"
   ]
  },
  {
   "cell_type": "markdown",
   "metadata": {},
   "source": [
    "## Step 3: Calculate n for standard alpha and power thresholds\n",
    "\n",
    "Now define what $\\alpha$ and $\\beta$ you believe might be appropriate for this scenario.\n",
    "To start, arbitrarily set $\\alpha$ to 0.05. From this, calculate the required sample size to detect a .01 response rate difference at a power of .8.\n",
    "\n",
    "> Note: Be sure to calculate a normalized effect size using Cohen's d from the raw response rate difference."
   ]
  },
  {
   "cell_type": "code",
   "execution_count": 6,
   "metadata": {},
   "outputs": [
    {
     "data": {
      "text/plain": [
       "8155.926665096444"
      ]
     },
     "execution_count": 6,
     "metadata": {},
     "output_type": "execute_result"
    }
   ],
   "source": [
    "# Calculate the required sample size\n",
    "import statsmodels.stats.power as sm\n",
    "p1 = 0.05 \n",
    "p2 = 0.06  \n",
    "alpha = 0.05  \n",
    "power = 0.8\n",
    "effect_size = (p2 - p1) / ((p1 * (1 - p1) + p2 * (1 - p2)) / 2) ** 0.5\n",
    "sample_size = sm.tt_ind_solve_power(effect_size=effect_size, alpha=alpha, power=power, ratio=1)\n",
    "sample_size"
   ]
  },
  {
   "cell_type": "markdown",
   "metadata": {},
   "source": [
    "## Step 4: Plot Power Curves for Alternative Experiment Formulations\n",
    "\n",
    "While you now know how many observations you need in order to run a t-test for the given formulation above, it is worth exploring what sample sizes would be required for alternative test formulations. For example, how much does the required sample size increase if you put the more stringent criteria of $\\alpha=.01$? Or what is the sample size required to detect a .03 response rate difference at the same $\\alpha$ and power thresholds? To investigate this, plot power vs sample size curves for alpha values of .01, .05 and .1 along with varying response rate differences of .005, .01, .02 and .03."
   ]
  },
  {
   "cell_type": "code",
   "execution_count": null,
   "metadata": {},
   "outputs": [],
   "source": [
    "#Your code; plot power curves for the various alpha and effect size combinations\n",
    "import matplotlib.pyplot as plt\n",
    "import numpy as np\n",
    "from scipy.stats import ttest_ind\n",
    "\n",
    "def power_simulation(effect_size, alpha, n, n_simulations=1000):\n",
    "    power = 0\n",
    "    for _ in range(n_simulations):\n",
    "        # Generate data for two groups\n",
    "        group1 = np.random.normal(loc=0, scale=1, size=n)\n",
    "        group2 = np.random.normal(loc=effect_size, scale=1, size=n)\n",
    "\n",
    "        # Perform t-test\n",
    "        t_stat, p_value = ttest_ind(group1, group2)\n",
    "\n",
    "        # Check if p-value is less than alpha\n",
    "        if p_value < alpha:\n",
    "            power += 1\n",
    "\n",
    "    return power / n_simulations\n",
    "\n",
    "# Define parameters\n",
    "effect_sizes = [0.005, 0.01, 0.02, 0.03]\n",
    "alpha_levels = [0.01, 0.05, 0.1]\n",
    "power_levels = 0.8\n",
    "n_simulations = 1000  # Adjust as needed for accuracy\n",
    "\n",
    "# Create a figure and axis\n",
    "fig, ax = plt.subplots()\n",
    "\n",
    "# Iterate over alpha levels and effect sizes\n",
    "for alpha in alpha_levels:\n",
    "    for effect_size in effect_sizes:\n",
    "        sample_sizes = np.arange(100, 10000, 100)\n",
    "        powers = [power_simulation(effect_size, alpha, n, n_simulations) for n in sample_sizes]\n",
    "        label = f\"α={alpha}, δ={effect_size:.3f}\"\n",
    "        ax.plot(sample_sizes, powers, label=label)\n",
    "\n",
    "# Set plot labels and title\n",
    "ax.set_xlabel(\"Sample Size\")\n",
    "ax.set_ylabel(\"Power\")\n",
    "ax.set_title(\"Power vs. Sample Size for Different α and Effect Sizes\")\n",
    "ax.legend()\n",
    "plt.grid(True)\n",
    "plt.show()\n"
   ]
  },
  {
   "cell_type": "markdown",
   "metadata": {},
   "source": [
    "## Step 5: Propose a Final Experimental Design\n",
    "\n",
    "Finally, now that you've explored some of the various sample sizes required for statistical tests of varying power, effect size and type I errors, propose an experimental design to pitch to your boss and some of the accompanying advantages or disadvantages with it."
   ]
  },
  {
   "cell_type": "markdown",
   "metadata": {},
   "source": [
    "### Your answer here"
   ]
  },
  {
   "cell_type": "code",
   "execution_count": null,
   "metadata": {},
   "outputs": [],
   "source": [
    "an A/B #testing approach with sequential analysis to efficiently evaluate the new email template"
   ]
  },
  {
   "cell_type": "markdown",
   "metadata": {},
   "source": [
    "## Summary\n",
    "\n",
    "In this lab, you practiced designing an initial experiment and then refined the parameters of the experiment based on an initial sample to determine feasibility."
   ]
  }
 ],
 "metadata": {
  "kernelspec": {
   "display_name": "Python 3 (ipykernel)",
   "language": "python",
   "name": "python3"
  },
  "language_info": {
   "codemirror_mode": {
    "name": "ipython",
    "version": 3
   },
   "file_extension": ".py",
   "mimetype": "text/x-python",
   "name": "python",
   "nbconvert_exporter": "python",
   "pygments_lexer": "ipython3",
   "version": "3.12.1"
  },
  "toc": {
   "base_numbering": 1,
   "nav_menu": {},
   "number_sections": true,
   "sideBar": true,
   "skip_h1_title": false,
   "title_cell": "Table of Contents",
   "title_sidebar": "Contents",
   "toc_cell": false,
   "toc_position": {},
   "toc_section_display": true,
   "toc_window_display": false
  }
 },
 "nbformat": 4,
 "nbformat_minor": 4
}
